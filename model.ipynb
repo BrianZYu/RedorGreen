{
  "metadata": {
    "language_info": {
      "codemirror_mode": {
        "name": "python",
        "version": 3
      },
      "file_extension": ".py",
      "mimetype": "text/x-python",
      "name": "python",
      "nbconvert_exporter": "python",
      "pygments_lexer": "ipython3",
      "version": "3.8"
    },
    "kernelspec": {
      "name": "python",
      "display_name": "Pyolite",
      "language": "python"
    }
  },
  "nbformat_minor": 4,
  "nbformat": 4,
  "cells": [
    {
      "cell_type": "code",
      "source": "import pandas as pd\nimport matplotlib.pyplot as plt\nfrom sklearn import linear_model\n\n\n\n#df = pd.read_csv()\n#df\n\nStock_Market = {'Year': [2017,2017,2017,2017,2017,2017,2017,2017,2017,2017,2017,2017,2016,2016,2016,2016,2016,2016,2016,2016,2016,2016,2016,2016],\n                'Month': [12, 11,10,9,8,7,6,5,4,3,2,1,12,11,10,9,8,7,6,5,4,3,2,1],\n                'Interest_Rate': [2.75,2.5,2.5,2.5,2.5,2.5,2.5,2.25,2.25,2.25,2,2,2,1.75,1.75,1.75,1.75,1.75,1.75,1.75,1.75,1.75,1.75,1.75],\n                'Unemployment_Rate': [5.3,5.3,5.3,5.3,5.4,5.6,5.5,5.5,5.5,5.6,5.7,5.9,6,5.9,5.8,6.1,6.2,6.1,6.1,6.1,5.9,6.2,6.2,6.1],\n                'Stock_Index_Price': [1464,1394,1357,1293,1256,1254,1234,1195,1159,1167,1130,1075,1047,965,943,958,971,949,884,866,876,822,704,719]        \n                }\n\ndf = pd.DataFrame(Stock_Market,columns=['Year','Month','Interest_Rate','Unemployment_Rate','Stock_Index_Price']) \n\nprint (df)",
      "metadata": {
        "trusted": true
      },
      "execution_count": 8,
      "outputs": [
        {
          "name": "stdout",
          "text": "    Year  Month  Interest_Rate  Unemployment_Rate  Stock_Index_Price\n0   2017     12           2.75                5.3               1464\n1   2017     11           2.50                5.3               1394\n2   2017     10           2.50                5.3               1357\n3   2017      9           2.50                5.3               1293\n4   2017      8           2.50                5.4               1256\n5   2017      7           2.50                5.6               1254\n6   2017      6           2.50                5.5               1234\n7   2017      5           2.25                5.5               1195\n8   2017      4           2.25                5.5               1159\n9   2017      3           2.25                5.6               1167\n10  2017      2           2.00                5.7               1130\n11  2017      1           2.00                5.9               1075\n12  2016     12           2.00                6.0               1047\n13  2016     11           1.75                5.9                965\n14  2016     10           1.75                5.8                943\n15  2016      9           1.75                6.1                958\n16  2016      8           1.75                6.2                971\n17  2016      7           1.75                6.1                949\n18  2016      6           1.75                6.1                884\n19  2016      5           1.75                6.1                866\n20  2016      4           1.75                5.9                876\n21  2016      3           1.75                6.2                822\n22  2016      2           1.75                6.2                704\n23  2016      1           1.75                6.1                719\n",
          "output_type": "stream"
        }
      ]
    },
    {
      "cell_type": "code",
      "source": "#independent variables\nX = df[['Interest_Rate', 'Unemployment_Rate']]\n\n#dependent variables\ny = df['Stock_Index_Price']\n\nregr = linear_model.LinearRegression()\nregr.fit(X, y)\npredictedCO2 = regr.predict([[3.0, 5.8]])\n\nprint(predictedCO2)",
      "metadata": {
        "trusted": true
      },
      "execution_count": 11,
      "outputs": [
        {
          "name": "stderr",
          "text": "/lib/python3.9/site-packages/sklearn/base.py:450: UserWarning: X does not have valid feature names, but LinearRegression was fitted with feature names\n  warnings.warn(\n",
          "output_type": "stream"
        },
        {
          "name": "stdout",
          "text": "[1384.17412472]\n",
          "output_type": "stream"
        }
      ]
    },
    {
      "cell_type": "code",
      "source": "",
      "metadata": {},
      "execution_count": null,
      "outputs": []
    }
  ]
}